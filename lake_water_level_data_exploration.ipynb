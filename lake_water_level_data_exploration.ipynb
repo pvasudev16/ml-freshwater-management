{
 "cells": [
  {
   "cell_type": "code",
   "execution_count": 1,
   "id": "cc063a8b",
   "metadata": {},
   "outputs": [],
   "source": [
    "import numpy as np\n",
    "import matplotlib.pyplot as plt\n",
    "import pandas as pd\n",
    "import sklearn as sk\n",
    "import matplotlib\n",
    "import cartopy.crs as ccrs # Projections\n",
    "import cartopy.feature as cfeature\n",
    "import cartopy\n",
    "import datetime"
   ]
  },
  {
   "cell_type": "code",
   "execution_count": 2,
   "id": "e8c445a1",
   "metadata": {},
   "outputs": [],
   "source": [
    "sentinel_data_A = pd.read_csv(\"./Sentinel_3A_water_level_Version0.csv\")"
   ]
  },
  {
   "cell_type": "code",
   "execution_count": 3,
   "id": "9b54539d",
   "metadata": {},
   "outputs": [],
   "source": [
    "sentinel_data_A = sentinel_data_A.rename(\n",
    "    columns={\n",
    "        \"Date (YYYYMMDD)\" : \"date\",\n",
    "        \"Lake_name\" : \"lake_name\",\n",
    "        \"Latitude\" : \"latitude\",\n",
    "        \"Longitude\" : \"longitude\",\n",
    "        \"Relaive_orbit\" : \"relative_orbit\",\n",
    "        \"Lake water level (m)\" : \"lake_water_level\"\n",
    "    }\n",
    ")"
   ]
  },
  {
   "cell_type": "code",
   "execution_count": 4,
   "id": "6c35ae7e",
   "metadata": {},
   "outputs": [
    {
     "data": {
      "text/html": [
       "<div>\n",
       "<style scoped>\n",
       "    .dataframe tbody tr th:only-of-type {\n",
       "        vertical-align: middle;\n",
       "    }\n",
       "\n",
       "    .dataframe tbody tr th {\n",
       "        vertical-align: top;\n",
       "    }\n",
       "\n",
       "    .dataframe thead th {\n",
       "        text-align: right;\n",
       "    }\n",
       "</style>\n",
       "<table border=\"1\" class=\"dataframe\">\n",
       "  <thead>\n",
       "    <tr style=\"text-align: right;\">\n",
       "      <th></th>\n",
       "      <th>date</th>\n",
       "      <th>lake_name</th>\n",
       "      <th>latitude</th>\n",
       "      <th>longitude</th>\n",
       "      <th>relative_orbit</th>\n",
       "      <th>lake_water_level</th>\n",
       "    </tr>\n",
       "  </thead>\n",
       "  <tbody>\n",
       "    <tr>\n",
       "      <th>0</th>\n",
       "      <td>20160403</td>\n",
       "      <td>Athabasca</td>\n",
       "      <td>59.244637</td>\n",
       "      <td>-108.047469</td>\n",
       "      <td>303</td>\n",
       "      <td>208.303892</td>\n",
       "    </tr>\n",
       "    <tr>\n",
       "      <th>1</th>\n",
       "      <td>20160403</td>\n",
       "      <td>Athabasca</td>\n",
       "      <td>59.247528</td>\n",
       "      <td>-108.049405</td>\n",
       "      <td>303</td>\n",
       "      <td>208.131251</td>\n",
       "    </tr>\n",
       "    <tr>\n",
       "      <th>2</th>\n",
       "      <td>20160403</td>\n",
       "      <td>Athabasca</td>\n",
       "      <td>59.250420</td>\n",
       "      <td>-108.051342</td>\n",
       "      <td>303</td>\n",
       "      <td>208.550610</td>\n",
       "    </tr>\n",
       "    <tr>\n",
       "      <th>3</th>\n",
       "      <td>20160403</td>\n",
       "      <td>Athabasca</td>\n",
       "      <td>59.253311</td>\n",
       "      <td>-108.053278</td>\n",
       "      <td>303</td>\n",
       "      <td>208.300569</td>\n",
       "    </tr>\n",
       "    <tr>\n",
       "      <th>4</th>\n",
       "      <td>20160403</td>\n",
       "      <td>Athabasca</td>\n",
       "      <td>59.256202</td>\n",
       "      <td>-108.055216</td>\n",
       "      <td>303</td>\n",
       "      <td>208.333929</td>\n",
       "    </tr>\n",
       "  </tbody>\n",
       "</table>\n",
       "</div>"
      ],
      "text/plain": [
       "       date  lake_name   latitude   longitude  relative_orbit  \\\n",
       "0  20160403  Athabasca  59.244637 -108.047469             303   \n",
       "1  20160403  Athabasca  59.247528 -108.049405             303   \n",
       "2  20160403  Athabasca  59.250420 -108.051342             303   \n",
       "3  20160403  Athabasca  59.253311 -108.053278             303   \n",
       "4  20160403  Athabasca  59.256202 -108.055216             303   \n",
       "\n",
       "   lake_water_level  \n",
       "0        208.303892  \n",
       "1        208.131251  \n",
       "2        208.550610  \n",
       "3        208.300569  \n",
       "4        208.333929  "
      ]
     },
     "execution_count": 4,
     "metadata": {},
     "output_type": "execute_result"
    }
   ],
   "source": [
    "sentinel_data_A.head()"
   ]
  },
  {
   "cell_type": "code",
   "execution_count": 5,
   "id": "967adb4d",
   "metadata": {},
   "outputs": [],
   "source": [
    "# Isolate Lake Winnipeg data\n",
    "lake_winnipeg = sentinel_data_A[\n",
    "    sentinel_data_A[\"lake_name\"] == \"Winnipeg\"\n",
    "]"
   ]
  },
  {
   "cell_type": "code",
   "execution_count": 6,
   "id": "b025e456",
   "metadata": {},
   "outputs": [
    {
     "data": {
      "text/plain": [
       "array([20160401, 20160428, 20160525, 20160621, 20160718, 20160814,\n",
       "       20160910, 20161007, 20161103, 20161130, 20161227, 20170123,\n",
       "       20170219, 20170318, 20170414, 20170511, 20170607, 20170704,\n",
       "       20170731, 20170827, 20170923, 20171020, 20171116, 20171213,\n",
       "       20180109, 20180205, 20180304, 20180331, 20180427, 20180620,\n",
       "       20180717, 20180813, 20180909, 20181006, 20181102, 20181129,\n",
       "       20181226, 20190122, 20190218, 20190317, 20190510, 20190606,\n",
       "       20190703, 20190730, 20190826, 20210604, 20210701, 20210728,\n",
       "       20210824, 20210920])"
      ]
     },
     "execution_count": 6,
     "metadata": {},
     "output_type": "execute_result"
    }
   ],
   "source": [
    "pd.unique(lake_winnipeg[\n",
    "    lake_winnipeg[\"relative_orbit\"] == pd.unique(lake_winnipeg[\"relative_orbit\"])[0]\n",
    "][\"date\"])"
   ]
  },
  {
   "cell_type": "markdown",
   "id": "2a215a45",
   "metadata": {},
   "source": [
    "## Plot ground track along Lake Winnipeg"
   ]
  },
  {
   "cell_type": "code",
   "execution_count": 7,
   "id": "784189b7",
   "metadata": {},
   "outputs": [
    {
     "data": {
      "image/png": "[encoded data removed]",
      "text/plain": [
       "<Figure size 432x432 with 1 Axes>"
      ]
     },
     "metadata": {
      "needs_background": "light"
     },
     "output_type": "display_data"
    }
   ],
   "source": [
    "# Get the extent from the data\n",
    "extent = [\n",
    "    lake_winnipeg[\"longitude\"].min(),\n",
    "    lake_winnipeg[\"longitude\"].max(),\n",
    "    lake_winnipeg[\"latitude\"].min(),\n",
    "    lake_winnipeg[\"latitude\"].max(),\n",
    "]\n",
    "central_lon = np.mean(extent[:2])\n",
    "central_lat = np.mean(extent[2:])\n",
    "\n",
    "# High resolution lakes\n",
    "lakes_50m = cfeature.NaturalEarthFeature('physical', 'lakes', '10m')\n",
    "\n",
    "# Land, river, and lakes\n",
    "fig = plt.figure(figsize=(6, 6))\n",
    "ax = fig.add_subplot(111, projection=ccrs.PlateCarree())\n",
    "ax.set_extent(extent)\n",
    "ax.add_feature(cartopy.feature.LAND, edgecolor='black')\n",
    "ax.add_feature(cartopy.feature.RIVERS)\n",
    "ax.add_feature(lakes_50m, facecolor='lightsteelblue',edgecolor='black')\n",
    "\n",
    "# Plot altimetry points\n",
    "ax.scatter(\n",
    "    x=np.array(lake_winnipeg[\"longitude\"]),\n",
    "    y=np.array(lake_winnipeg[\"latitude\"]),\n",
    "    zorder=10,\n",
    "    s=1\n",
    ")\n",
    "\n",
    "# Format gridlines\n",
    "# https://scitools.org.uk/cartopy/docs/latest/gallery/gridlines_and_labels/gridliner.html\n",
    "gl = ax.gridlines(draw_labels=True)\n",
    "gl.top_labels = False\n",
    "gl.right_labels = False\n",
    "plt.show()"
   ]
  },
  {
   "cell_type": "markdown",
   "id": "8147a229",
   "metadata": {},
   "source": [
    "## Explore Outliers"
   ]
  },
  {
   "cell_type": "markdown",
   "id": "ed99b7da",
   "metadata": {},
   "source": [
    "### Distribution of Water Levels... ignore $\\mu\\pm2\\sigma$?\n",
    "I sketch the idea below, but I'm not sure it's a good idea to actually implement"
   ]
  },
  {
   "cell_type": "code",
   "execution_count": 8,
   "id": "785fd3b1",
   "metadata": {},
   "outputs": [
    {
     "name": "stdout",
     "output_type": "stream",
     "text": [
      "The mean lakewater level is 217.27 and the standard deviation is 1.164889\n"
     ]
    }
   ],
   "source": [
    "lake_water_mean = lake_winnipeg[\"lake_water_level\"].mean()\n",
    "lake_water_std = lake_winnipeg[\"lake_water_level\"].std()\n",
    "print(\"The mean lakewater level is %0.2f and the standard deviation is %02f\"%(lake_water_mean, lake_water_std))"
   ]
  },
  {
   "cell_type": "code",
   "execution_count": 9,
   "id": "abf0c1be",
   "metadata": {},
   "outputs": [
    {
     "data": {
      "image/png": "[encoded data removed]",
      "text/plain": [
       "<Figure size 432x288 with 2 Axes>"
      ]
     },
     "metadata": {
      "needs_background": "light"
     },
     "output_type": "display_data"
    }
   ],
   "source": [
    "fig = plt.figure()\n",
    "ax = fig.add_subplot(111)\n",
    "\n",
    "ax.hist(\n",
    "    x=lake_winnipeg[\"lake_water_level\"],\n",
    "    bins=np.linspace(\n",
    "        lake_water_mean - 5 * lake_water_std,\n",
    "        lake_water_mean + 5 * lake_water_std,\n",
    "        500\n",
    "    )\n",
    ")\n",
    "ax.set_xlim(\n",
    "    [\n",
    "        lake_water_mean - 7 * lake_water_std,\n",
    "        lake_water_mean + 7 * lake_water_std,\n",
    "    ]\n",
    ")\n",
    "\n",
    "ax.axvspan(\n",
    "    xmin=ax.get_xlim()[0],\n",
    "    xmax=lake_water_mean - 2 * lake_water_std,\n",
    "    facecolor=\"#F02D3A\",\n",
    "    alpha=0.5\n",
    ")\n",
    "ax.axvspan(\n",
    "    xmin=lake_water_mean + 2 * lake_water_std,\n",
    "    xmax=ax.get_xlim()[1],\n",
    "    facecolor=\"#F02D3A\",\n",
    "    alpha=0.5\n",
    ")\n",
    "\n",
    "\n",
    "vline_water_levels = [lake_water_mean + i * lake_water_std for i in range(-2,3)]\n",
    "ax.vlines(\n",
    "    x=vline_water_levels,\n",
    "    ymin=ax.get_ylim()[0],\n",
    "    ymax=ax.get_ylim()[1],\n",
    "    color='k',\n",
    "    linestyle='--',\n",
    "    alpha=0.5\n",
    ")\n",
    "ax.get_yaxis().set_major_formatter(\n",
    "    matplotlib.ticker.FuncFormatter(lambda x, p: format(int(x), ','))\n",
    ")\n",
    "ax.set_xlabel(\"Water level (m)\")\n",
    "ax.set_ylabel(\"Number of data points\")\n",
    "\n",
    "ax1 = ax.twiny()\n",
    "ax1.set_xlim(\n",
    "    ax.get_xlim()\n",
    ")\n",
    "ax1.set_xticks(\n",
    "    [lake_water_mean + i * lake_water_std for i in range(-2, 3)]\n",
    ")\n",
    "ax1.set_xticklabels(\n",
    "    [\n",
    "        r'-2$\\sigma$',\n",
    "        r'-1$\\sigma$',\n",
    "        r'$\\mu$',\n",
    "        r'1$\\sigma$',\n",
    "        r'2$\\sigma$',\n",
    "    ]\n",
    ")\n",
    "\n",
    "ax.text(210, 1500, 'Ignore water levels\\n' + r'of $\\mu  \\pm2\\sigma$' + '\\n(shaded)')\n",
    "plt.title(\"Distribution of lake water levels\\nin Lake Winnipeg from Sentinel A\")\n",
    "plt.show()"
   ]
  },
  {
   "cell_type": "markdown",
   "id": "6723ec84",
   "metadata": {},
   "source": [
    "### Water levels in different times of year.\n",
    "There is ice cover in winter. Take summary stats of winter and non-winter and see how different they are.\n",
    "I'm not sure this is particularly informative."
   ]
  },
  {
   "cell_type": "code",
   "execution_count": 10,
   "id": "e4dad82a",
   "metadata": {},
   "outputs": [
    {
     "data": {
      "text/html": [
       "<div>\n",
       "<style scoped>\n",
       "    .dataframe tbody tr th:only-of-type {\n",
       "        vertical-align: middle;\n",
       "    }\n",
       "\n",
       "    .dataframe tbody tr th {\n",
       "        vertical-align: top;\n",
       "    }\n",
       "\n",
       "    .dataframe thead th {\n",
       "        text-align: right;\n",
       "    }\n",
       "</style>\n",
       "<table border=\"1\" class=\"dataframe\">\n",
       "  <thead>\n",
       "    <tr style=\"text-align: right;\">\n",
       "      <th></th>\n",
       "      <th>date</th>\n",
       "      <th>lake_name</th>\n",
       "      <th>latitude</th>\n",
       "      <th>longitude</th>\n",
       "      <th>relative_orbit</th>\n",
       "      <th>lake_water_level</th>\n",
       "    </tr>\n",
       "  </thead>\n",
       "  <tbody>\n",
       "    <tr>\n",
       "      <th>228868</th>\n",
       "      <td>20160401</td>\n",
       "      <td>Winnipeg</td>\n",
       "      <td>51.860057</td>\n",
       "      <td>-96.819518</td>\n",
       "      <td>283</td>\n",
       "      <td>217.4011</td>\n",
       "    </tr>\n",
       "    <tr>\n",
       "      <th>228869</th>\n",
       "      <td>20160401</td>\n",
       "      <td>Winnipeg</td>\n",
       "      <td>51.857120</td>\n",
       "      <td>-96.820913</td>\n",
       "      <td>283</td>\n",
       "      <td>217.5197</td>\n",
       "    </tr>\n",
       "    <tr>\n",
       "      <th>228870</th>\n",
       "      <td>20160401</td>\n",
       "      <td>Winnipeg</td>\n",
       "      <td>51.854183</td>\n",
       "      <td>-96.822309</td>\n",
       "      <td>283</td>\n",
       "      <td>217.2064</td>\n",
       "    </tr>\n",
       "    <tr>\n",
       "      <th>228871</th>\n",
       "      <td>20160401</td>\n",
       "      <td>Winnipeg</td>\n",
       "      <td>51.851245</td>\n",
       "      <td>-96.823704</td>\n",
       "      <td>283</td>\n",
       "      <td>217.3213</td>\n",
       "    </tr>\n",
       "    <tr>\n",
       "      <th>228872</th>\n",
       "      <td>20160401</td>\n",
       "      <td>Winnipeg</td>\n",
       "      <td>51.848308</td>\n",
       "      <td>-96.825099</td>\n",
       "      <td>283</td>\n",
       "      <td>217.3166</td>\n",
       "    </tr>\n",
       "  </tbody>\n",
       "</table>\n",
       "</div>"
      ],
      "text/plain": [
       "            date lake_name   latitude  longitude  relative_orbit  \\\n",
       "228868  20160401  Winnipeg  51.860057 -96.819518             283   \n",
       "228869  20160401  Winnipeg  51.857120 -96.820913             283   \n",
       "228870  20160401  Winnipeg  51.854183 -96.822309             283   \n",
       "228871  20160401  Winnipeg  51.851245 -96.823704             283   \n",
       "228872  20160401  Winnipeg  51.848308 -96.825099             283   \n",
       "\n",
       "        lake_water_level  \n",
       "228868          217.4011  \n",
       "228869          217.5197  \n",
       "228870          217.2064  \n",
       "228871          217.3213  \n",
       "228872          217.3166  "
      ]
     },
     "execution_count": 10,
     "metadata": {},
     "output_type": "execute_result"
    }
   ],
   "source": [
    "lake_winnipeg.head()"
   ]
  },
  {
   "cell_type": "code",
   "execution_count": 11,
   "id": "6f10682b",
   "metadata": {},
   "outputs": [],
   "source": [
    "def add_winter_column(lake_winnipeg):\n",
    "    # Add a column to indicate if the date is in winter or not.\n",
    "    lake_winnipeg.loc[:, \"date_as_datetime\"] = pd.to_datetime(lake_winnipeg.loc[:, \"date\"], format=\"%Y%m%d\")\n",
    "    lake_winnipeg.loc[:, \"month\"] = lake_winnipeg[\"date_as_datetime\"].apply( lambda x: x.month)\n",
    "    lake_winnipeg.loc[:, \"day\"] = lake_winnipeg[\"date_as_datetime\"].apply( lambda x: x.day)\n",
    "    lake_winnipeg.loc[:, \"winter\"] = ((lake_winnipeg[\"month\"] < 4) | (lake_winnipeg[\"month\"] > 10))\n",
    "    return lake_winnipeg\n",
    "\n",
    "def remove_winter_column(lake_winnipeg):\n",
    "    lake_winnipeg = lake_winnipeg.drop(columns=[\"winter\", \"month\", \"day\", \"date_as_datetime\"])\n",
    "    return lake_winnipeg"
   ]
  },
  {
   "cell_type": "code",
   "execution_count": 12,
   "id": "e4440b99",
   "metadata": {},
   "outputs": [
    {
     "name": "stderr",
     "output_type": "stream",
     "text": [
      "/var/folders/fq/5jxrrbnx17q2sdybczkrrlr00000gn/T/ipykernel_19454/2287572897.py:3: SettingWithCopyWarning: \n",
      "A value is trying to be set on a copy of a slice from a DataFrame.\n",
      "Try using .loc[row_indexer,col_indexer] = value instead\n",
      "\n",
      "See the caveats in the documentation: https://pandas.pydata.org/pandas-docs/stable/user_guide/indexing.html#returning-a-view-versus-a-copy\n",
      "  lake_winnipeg.loc[:, \"date_as_datetime\"] = pd.to_datetime(lake_winnipeg.loc[:, \"date\"], format=\"%Y%m%d\")\n",
      "/var/folders/fq/5jxrrbnx17q2sdybczkrrlr00000gn/T/ipykernel_19454/2287572897.py:4: SettingWithCopyWarning: \n",
      "A value is trying to be set on a copy of a slice from a DataFrame.\n",
      "Try using .loc[row_indexer,col_indexer] = value instead\n",
      "\n",
      "See the caveats in the documentation: https://pandas.pydata.org/pandas-docs/stable/user_guide/indexing.html#returning-a-view-versus-a-copy\n",
      "  lake_winnipeg.loc[:, \"month\"] = lake_winnipeg[\"date_as_datetime\"].apply( lambda x: x.month)\n",
      "/var/folders/fq/5jxrrbnx17q2sdybczkrrlr00000gn/T/ipykernel_19454/2287572897.py:5: SettingWithCopyWarning: \n",
      "A value is trying to be set on a copy of a slice from a DataFrame.\n",
      "Try using .loc[row_indexer,col_indexer] = value instead\n",
      "\n",
      "See the caveats in the documentation: https://pandas.pydata.org/pandas-docs/stable/user_guide/indexing.html#returning-a-view-versus-a-copy\n",
      "  lake_winnipeg.loc[:, \"day\"] = lake_winnipeg[\"date_as_datetime\"].apply( lambda x: x.day)\n",
      "/var/folders/fq/5jxrrbnx17q2sdybczkrrlr00000gn/T/ipykernel_19454/2287572897.py:6: SettingWithCopyWarning: \n",
      "A value is trying to be set on a copy of a slice from a DataFrame.\n",
      "Try using .loc[row_indexer,col_indexer] = value instead\n",
      "\n",
      "See the caveats in the documentation: https://pandas.pydata.org/pandas-docs/stable/user_guide/indexing.html#returning-a-view-versus-a-copy\n",
      "  lake_winnipeg.loc[:, \"winter\"] = ((lake_winnipeg[\"month\"] < 4) | (lake_winnipeg[\"month\"] > 10))\n"
     ]
    }
   ],
   "source": [
    "lake_winnipeg = add_winter_column(lake_winnipeg)"
   ]
  },
  {
   "cell_type": "markdown",
   "id": "ee35a165",
   "metadata": {},
   "source": [
    "The mean lake water level in winter (Nov - March) is 216.97 m.\n",
    "The mean lake water level in non-winter (Apr - Oct) is 217.41 m."
   ]
  },
  {
   "cell_type": "code",
   "execution_count": 13,
   "id": "c57fb51b",
   "metadata": {},
   "outputs": [
    {
     "data": {
      "text/plain": [
       "count    35584.000000\n",
       "mean       216.977128\n",
       "std          1.037623\n",
       "min        187.942875\n",
       "25%        216.655480\n",
       "50%        217.051439\n",
       "75%        217.488527\n",
       "max        227.617834\n",
       "Name: lake_water_level, dtype: float64"
      ]
     },
     "execution_count": 13,
     "metadata": {},
     "output_type": "execute_result"
    }
   ],
   "source": [
    "lake_winnipeg.loc[\n",
    "    lake_winnipeg[\"winter\"] == True,\n",
    "    \"lake_water_level\"\n",
    "].describe()"
   ]
  },
  {
   "cell_type": "code",
   "execution_count": 14,
   "id": "24ee4d8d",
   "metadata": {},
   "outputs": [
    {
     "data": {
      "text/plain": [
       "count    72920.000000\n",
       "mean       217.409069\n",
       "std          1.196905\n",
       "min        183.408658\n",
       "25%        217.159186\n",
       "50%        217.483098\n",
       "75%        217.780306\n",
       "max        235.595841\n",
       "Name: lake_water_level, dtype: float64"
      ]
     },
     "execution_count": 14,
     "metadata": {},
     "output_type": "execute_result"
    }
   ],
   "source": [
    "lake_winnipeg.loc[\n",
    "    lake_winnipeg[\"winter\"] == False,\n",
    "    \"lake_water_level\"\n",
    "].describe()"
   ]
  },
  {
   "cell_type": "code",
   "execution_count": 15,
   "id": "25f8df4d",
   "metadata": {},
   "outputs": [],
   "source": [
    "#lake_winnipeg = remove_winter_column(lake_winnipeg)"
   ]
  },
  {
   "cell_type": "markdown",
   "id": "300c03dd",
   "metadata": {},
   "source": [
    "## Errors and Outlier Filtering\n",
    "### Error: Calculate Absolute Deviance from the Mean (ADM)\n",
    "Take the median along each track, and then subtract it from all the measurements. Most measurements have an error well below 0.25 m. The DAHITI paper suggest to reject measurements whose ADM is 5 cm. or greater. Perhaps we can be more forgiving and select 25 cm.\n",
    "\n",
    "In the ideal world, we'd make a sliding box of 1.5 km along each track. We'd calculate the mean in this box and subtract it from the measurement.\n",
    "\n",
    "Each day seems to be a single track. (See below, play with number_of_tracks. Set it to 1, 2, 3, ...)"
   ]
  },
  {
   "cell_type": "code",
   "execution_count": 16,
   "id": "0305d85d",
   "metadata": {},
   "outputs": [
    {
     "data": {
      "image/png": "[encoded data removed]",
      "text/plain": [
       "<Figure size 432x432 with 1 Axes>"
      ]
     },
     "metadata": {
      "needs_background": "light"
     },
     "output_type": "display_data"
    }
   ],
   "source": [
    "# Change this parameter\n",
    "number_of_tracks = 8\n",
    "\n",
    "# Make the cartopy map the background\n",
    "extent = [\n",
    "    lake_winnipeg[\"longitude\"].min(),\n",
    "    lake_winnipeg[\"longitude\"].max(),\n",
    "    lake_winnipeg[\"latitude\"].min(),\n",
    "    lake_winnipeg[\"latitude\"].max(),\n",
    "]\n",
    "central_lon = np.mean(extent[:2])\n",
    "central_lat = np.mean(extent[2:])\n",
    "lakes_50m = cfeature.NaturalEarthFeature('physical', 'lakes', '10m')\n",
    "fig = plt.figure(figsize=(6, 6))\n",
    "ax = fig.add_subplot(111, projection=ccrs.PlateCarree())\n",
    "ax.set_extent(extent)\n",
    "ax.add_feature(cartopy.feature.LAND, edgecolor='black')\n",
    "ax.add_feature(cartopy.feature.RIVERS)\n",
    "ax.add_feature(lakes_50m, facecolor='lightsteelblue',edgecolor='black')\n",
    "gl = ax.gridlines(draw_labels=True)\n",
    "gl.top_labels = False\n",
    "gl.right_labels = False\n",
    "\n",
    "# Plot altimetry points\n",
    "number_of_colours = 7\n",
    "cmap = matplotlib.cm.get_cmap('viridis')\n",
    "colours = cmap(np.linspace(0, 1, number_of_colours))\n",
    "for i, date in enumerate(pd.unique(lake_winnipeg[\"date\"])[0:number_of_tracks]):\n",
    "    ax.scatter(\n",
    "        x=lake_winnipeg.loc[\n",
    "            lake_winnipeg[\"date_as_datetime\"] == pd.to_datetime(date, format=\"%Y%m%d\"),\n",
    "            \"longitude\"\n",
    "        ],\n",
    "        y=lake_winnipeg.loc[\n",
    "            lake_winnipeg[\"date_as_datetime\"] == pd.to_datetime(date, format=\"%Y%m%d\"),\n",
    "            \"latitude\"\n",
    "        ],\n",
    "        s=5,\n",
    "        color=colours[i%number_of_colours],\n",
    "        label=date,\n",
    "        zorder=10\n",
    "    )\n",
    "ax.legend()\n",
    "plt.show()"
   ]
  },
  {
   "cell_type": "code",
   "execution_count": 53,
   "id": "bba9f5c8",
   "metadata": {},
   "outputs": [],
   "source": [
    "def add_adm_error(lake_winnipeg):\n",
    "    lake_winnipeg[\"error\"] = 0\n",
    "    unique_dates = pd.unique(lake_winnipeg[\"date\"])\n",
    "    for date in unique_dates:\n",
    "        median_water_level = lake_winnipeg.loc[\n",
    "            lake_winnipeg[\"date\"] == date,\n",
    "            \"lake_water_level\"\n",
    "        ].median()\n",
    "        lake_winnipeg.loc[\n",
    "            lake_winnipeg[\"date\"] == date,\n",
    "            \"error\"\n",
    "        ] = lake_winnipeg.loc[\n",
    "            lake_winnipeg[\"date\"] == date,\n",
    "            \"lake_water_level\"\n",
    "        ].apply(lambda x: np.abs(x - median_water_level) + 1.)\n",
    "    return lake_winnipeg\n",
    "\n",
    "def remove_adm_error(lake_winnipeg):\n",
    "    lake_winnipeg = lake_winnipeg.drop(columns=[\"error\"])\n",
    "    return lake_winnipeg"
   ]
  },
  {
   "cell_type": "code",
   "execution_count": 54,
   "id": "332d73e4",
   "metadata": {},
   "outputs": [],
   "source": [
    "lake_winnipeg = add_adm_error(lake_winnipeg)"
   ]
  },
  {
   "cell_type": "code",
   "execution_count": 55,
   "id": "f45774f1",
   "metadata": {},
   "outputs": [
    {
     "data": {
      "image/png": "[encoded data removed]",
      "text/plain": [
       "<Figure size 432x288 with 1 Axes>"
      ]
     },
     "metadata": {
      "needs_background": "light"
     },
     "output_type": "display_data"
    }
   ],
   "source": [
    "fig = plt.figure()\n",
    "ax = fig.add_subplot(111)\n",
    "ax.hist(\n",
    "    lake_winnipeg[\"error\"],\n",
    "    bins=np.linspace(0, 5, 501)\n",
    ")\n",
    "ax.get_yaxis().set_major_formatter(\n",
    "    matplotlib.ticker.FuncFormatter(lambda x, p: format(int(x), ','))\n",
    ")\n",
    "ax.set_xlabel(\"ADM Error (m)\")\n",
    "ax.set_ylabel(\"Counts\")\n",
    "ax.grid(True)\n",
    "ax.set_xlim([0, 2.5])\n",
    "plt.title(\"Distribution of ADM for Lake Winnipeg, Sentinel A\")\n",
    "plt.show()"
   ]
  },
  {
   "cell_type": "markdown",
   "id": "f91fb66b",
   "metadata": {},
   "source": [
    "### Outliers: Reject $\\pm3\\sigma$ \n",
    "For each track, take the mean and std, and reject points that are outside of $\\mu\\pm3\\sigma$."
   ]
  },
  {
   "cell_type": "code",
   "execution_count": 74,
   "id": "ec6dfef2",
   "metadata": {},
   "outputs": [],
   "source": [
    "lake_winnipeg[\"mean_track_lake_water_level\"] = lake_winnipeg.groupby(\"date\")[\"lake_water_level\"].transform(\"mean\")\n",
    "lake_winnipeg[\"std_track_lake_water_level\"] = lake_winnipeg.groupby(\"date\")[\"lake_water_level\"].transform(\"std\")\n",
    "number_of_standard_deviations = 2 # Reject points that are more than number_of_standard_deviation*std from the mean"
   ]
  },
  {
   "cell_type": "code",
   "execution_count": 76,
   "id": "5bc538ed",
   "metadata": {},
   "outputs": [],
   "source": [
    "lake_winnipeg[\"reject\"] = lake_winnipeg.apply(\n",
    "    lambda row: True if np.abs(\n",
    "        row[\"lake_water_level\"] - row[\"mean_track_lake_water_level\"]\n",
    "    ) > number_of_standard_deviations*row[\"std_track_lake_water_level\"] else False,\n",
    "    axis=1\n",
    ")"
   ]
  },
  {
   "cell_type": "code",
   "execution_count": 77,
   "id": "5438b17a",
   "metadata": {},
   "outputs": [
    {
     "data": {
      "text/plain": [
       "False    100986\n",
       "True       3909\n",
       "Name: reject, dtype: int64"
      ]
     },
     "execution_count": 77,
     "metadata": {},
     "output_type": "execute_result"
    }
   ],
   "source": [
    "lake_winnipeg[\"reject\"].value_counts()"
   ]
  },
  {
   "cell_type": "code",
   "execution_count": 78,
   "id": "508069f0",
   "metadata": {},
   "outputs": [],
   "source": [
    "lake_winnipeg = lake_winnipeg.loc[\n",
    "    lake_winnipeg[\"reject\"] == False\n",
    "]"
   ]
  },
  {
   "cell_type": "markdown",
   "id": "3badb3ae",
   "metadata": {},
   "source": [
    "# Kalman Filtering"
   ]
  },
  {
   "cell_type": "code",
   "execution_count": 79,
   "id": "1cfdde70",
   "metadata": {},
   "outputs": [],
   "source": [
    "# Work on one time step and then put a loop over time steps\n",
    "\n",
    "# Model:\n",
    "# l_k = A_k * x_k - v_k\n",
    "# There are n=1 grid points on the lake\n",
    "# There are m_k=42 points on 2016-04-01 and m_k=875 points on 2016-04-04\n",
    "# Dimensions:\n",
    "#     l_k: (m_k, 1); lake water observations at time t_k\n",
    "#     A_k: (m_k, n); ones for each grid point that we have an observation at time t_k\n",
    "#     x_k: (n, 1); the model state we are after\n",
    "#     v_k: (m_k, 1); residuals from the observations\n",
    "\n",
    "# Uncertainty in the lake water level:\n",
    "# sigma_{ll, k} = I * s_kl\n",
    "# Dimensions:\n",
    "#    sigma_{ll, k} = (m_k, m_k); assume each measurement is indepdendent. Diagonal.\n",
    "#    s_{kl} = (m_k, 1); error in each measurement at time t_k   "
   ]
  },
  {
   "cell_type": "code",
   "execution_count": 80,
   "id": "8f7fe8bd",
   "metadata": {},
   "outputs": [],
   "source": [
    "class KalmanFilter:\n",
    "    def __init__(self):\n",
    "        self.m_t = 0 # number of points in this time step\n",
    "        self.x_t_prior = 0 # x_t prior, just a #\n",
    "        self.x_t = 0 # x_t update, just a #\n",
    "        self.F_t = 0 # transition matrix, just a #\n",
    "        self.H_t = 0 # model matrix (m_k, 1)\n",
    "        self.sigma_t_prior = 0 # process noise, prior; just a #\n",
    "        self.S_t_prior = 0 # observation noise, prior; (m_k, m_k)\n",
    "        self.sigma_t = 0 # process noise, update; just a #\n",
    "        self.S_t = 0 # observation noise, update; (m_k, m_k)\n",
    "        self.y_t_prior = 0 # predictions for observations based on x_t_prior\n",
    "        self.y_t = 0 # observations; (m_k, 1)\n",
    "        self.K_t = 0 # Kalman gain\n",
    "        self.R_t = 0 # Covariance of noise in the observations at time t\n",
    "        self.Q_t = 0 # Covariance of the noise in...?\n",
    "        \n",
    "    def initialize(self, lake_data_0):\n",
    "        # lake_data_0 is the lake data for the zeroth time step.\n",
    "        # In our Lake Winnipeg case, it will be something like this;\n",
    "        # lake_data_0 = lake_winnipeg.loc[\n",
    "        #    lake_winnipeg[\"date\"] = pd.unique(lake_winnipeg[\"date\"])[0]\n",
    "        #]\n",
    "        \n",
    "        # Initialize the x_t_prior to the lake water level that has the lowest\n",
    "        # error estimate\n",
    "        water_level_with_smallest_error = lake_data_0.loc[\n",
    "            lake_data_0['error'].idxmin()\n",
    "        ]['lake_water_level']\n",
    "        self.x_t_prior = water_level_with_smallest_error\n",
    "        \n",
    "        # Initialize the process noise to unity\n",
    "        self.sigma_t_prior = 1.\n",
    "        \n",
    "        # Define the variables from the data\n",
    "        self.input_new_data(lake_data_0)\n",
    "        \n",
    "        # Set the transition \"matrix\"\n",
    "        self.F_t = 1\n",
    "        \n",
    "        # Set the...?\n",
    "        self.Q_t = 1.0\n",
    "        \n",
    "    def input_new_data(self, lake_data):\n",
    "        # Set the number of points in this time step\n",
    "        self.m_t = len(lake_data)\n",
    "        \n",
    "        # Set the model matrix\n",
    "        self.H_t = np.ones((self.m_t, 1))\n",
    "        \n",
    "        # Set the observation noise matrix.\n",
    "        self.R_t = np.zeros((self.m_t, self.m_t))\n",
    "        np.fill_diagonal(self.R_t, lake_data[\"error\"])\n",
    "        self.S_t_prior = self.R_t + np.matmul(self.H_t, np.transpose(self.H_t)) * self.sigma_t_prior\n",
    "        \n",
    "        # Initialize the observations\n",
    "        self.y_t = np.array(lake_data[\"lake_water_level\"]).reshape(self.m_t, 1)\n",
    "        \n",
    "        # Initialize the estimates based on the priors\n",
    "        self.y_t_prior = self.H_t  * self.x_t_prior\n",
    "    \n",
    "    def calculate_kalman_gain(\n",
    "        self,\n",
    "        sigma_t_prior, # Process noise, prior\n",
    "        S_t_prior, # Observation noise, prior\n",
    "        H_t, # model matrix\n",
    "    ):\n",
    "        return np.matmul(\n",
    "            sigma_t_prior * np.transpose(H_t),\n",
    "            np.linalg.pinv(S_t_prior)\n",
    "        )\n",
    "        \n",
    "    def update(self):\n",
    "        self.K_t = self.calculate_kalman_gain(\n",
    "            self.sigma_t_prior,\n",
    "            self.S_t_prior,\n",
    "            self.H_t\n",
    "        )\n",
    "        \n",
    "        # Update state variable\n",
    "        self.x_t = self.x_t_prior + np.matmul(\n",
    "            self.K_t,\n",
    "            self.y_t - self.y_t_prior\n",
    "        ).item()\n",
    "\n",
    "        # Update sigma_t\n",
    "        self.sigma_t = self.sigma_t_prior - np.matmul(\n",
    "            self.K_t,\n",
    "            np.matmul(\n",
    "                self.S_t_prior,\n",
    "                np.transpose(self.K_t)\n",
    "            )\n",
    "        ).item()\n",
    "    \n",
    "    def predict(self): # Is a better name predict_next_prior?\n",
    "        self.x_t_prior = self.x_t\n",
    "        self.sigma_t_prior = self.sigma_t + self.Q_t"
   ]
  },
  {
   "cell_type": "code",
   "execution_count": 81,
   "id": "b89c7af1",
   "metadata": {},
   "outputs": [
    {
     "name": "stdout",
     "output_type": "stream",
     "text": [
      "Processing 20160401, 0.00% complete\n",
      "Processing 20170418, 29.50% complete\n",
      "Processing 20180612, 59.00% complete\n",
      "Processing 20190729, 88.50% complete\n",
      "Processing 20210924, 100.00% complete\n"
     ]
    }
   ],
   "source": [
    "times = pd.unique(lake_winnipeg[\"date\"])\n",
    "lake_water_levels = np.zeros(np.array(times).shape)\n",
    "oHai = KalmanFilter()\n",
    "number_of_time_points = len(times)\n",
    "\n",
    "for i, time in enumerate(times):\n",
    "    # Initialize\n",
    "    if i == 0:\n",
    "        oHai.initialize(\n",
    "            lake_winnipeg.loc[\n",
    "                lake_winnipeg[\"date\"] == time\n",
    "            ]\n",
    "        )\n",
    "    else:\n",
    "        oHai.input_new_data(\n",
    "            lake_winnipeg.loc[\n",
    "                lake_winnipeg[\"date\"] == time\n",
    "            ]\n",
    "        )\n",
    "     # Update\n",
    "    oHai.update()\n",
    "    \n",
    "    # Get the lake water levels\n",
    "    lake_water_levels[i] = oHai.x_t # This should be a variable like y_k which is just x_k?\n",
    "    \n",
    "    oHai.predict()\n",
    "    \n",
    "    if (i%100 == 0) or (i == number_of_time_points - 1):\n",
    "        percentage_complete = i/(number_of_time_points - 1) * 100.\n",
    "        print(\"Processing %d, %0.02f%% complete\"%(time, percentage_complete))"
   ]
  },
  {
   "cell_type": "code",
   "execution_count": 82,
   "id": "5d9536de",
   "metadata": {},
   "outputs": [],
   "source": [
    "# Form a baseline comparison; take the median on each day, and calculate rms error\n",
    "\n",
    "def rms(values):\n",
    "    return np.sqrt(sum(values**2)/len(values))\n",
    "\n",
    "baseline_results = lake_winnipeg[\n",
    "    [\n",
    "        \"date\",\n",
    "        \"lake_water_level\",\n",
    "        \"error\"\n",
    "    ]\n",
    "].groupby(\"date\").agg(\n",
    "    {\n",
    "        \"lake_water_level\" : \"median\",\n",
    "        \"error\": rms\n",
    "    }\n",
    ").reset_index()\n",
    "\n",
    "baseline_results.loc[:, \"date_as_datetime\"] = pd.to_datetime(baseline_results.loc[:, \"date\"], format=\"%Y%m%d\")"
   ]
  },
  {
   "cell_type": "code",
   "execution_count": 83,
   "id": "0411c1bd",
   "metadata": {},
   "outputs": [
    {
     "data": {
      "text/html": [
       "<div>\n",
       "<style scoped>\n",
       "    .dataframe tbody tr th:only-of-type {\n",
       "        vertical-align: middle;\n",
       "    }\n",
       "\n",
       "    .dataframe tbody tr th {\n",
       "        vertical-align: top;\n",
       "    }\n",
       "\n",
       "    .dataframe thead th {\n",
       "        text-align: right;\n",
       "    }\n",
       "</style>\n",
       "<table border=\"1\" class=\"dataframe\">\n",
       "  <thead>\n",
       "    <tr style=\"text-align: right;\">\n",
       "      <th></th>\n",
       "      <th>date</th>\n",
       "      <th>lake_water_level</th>\n",
       "      <th>error</th>\n",
       "      <th>date_as_datetime</th>\n",
       "    </tr>\n",
       "  </thead>\n",
       "  <tbody>\n",
       "    <tr>\n",
       "      <th>0</th>\n",
       "      <td>20160401</td>\n",
       "      <td>217.357400</td>\n",
       "      <td>1.051550</td>\n",
       "      <td>2016-04-01</td>\n",
       "    </tr>\n",
       "    <tr>\n",
       "      <th>1</th>\n",
       "      <td>20160404</td>\n",
       "      <td>217.420797</td>\n",
       "      <td>1.080877</td>\n",
       "      <td>2016-04-04</td>\n",
       "    </tr>\n",
       "    <tr>\n",
       "      <th>2</th>\n",
       "      <td>20160405</td>\n",
       "      <td>217.430868</td>\n",
       "      <td>1.051407</td>\n",
       "      <td>2016-04-05</td>\n",
       "    </tr>\n",
       "    <tr>\n",
       "      <th>3</th>\n",
       "      <td>20160416</td>\n",
       "      <td>217.734666</td>\n",
       "      <td>1.077846</td>\n",
       "      <td>2016-04-16</td>\n",
       "    </tr>\n",
       "    <tr>\n",
       "      <th>4</th>\n",
       "      <td>20160420</td>\n",
       "      <td>217.686769</td>\n",
       "      <td>1.097875</td>\n",
       "      <td>2016-04-20</td>\n",
       "    </tr>\n",
       "    <tr>\n",
       "      <th>...</th>\n",
       "      <td>...</td>\n",
       "      <td>...</td>\n",
       "      <td>...</td>\n",
       "      <td>...</td>\n",
       "    </tr>\n",
       "    <tr>\n",
       "      <th>335</th>\n",
       "      <td>20210916</td>\n",
       "      <td>216.917040</td>\n",
       "      <td>1.043210</td>\n",
       "      <td>2021-09-16</td>\n",
       "    </tr>\n",
       "    <tr>\n",
       "      <th>336</th>\n",
       "      <td>20210919</td>\n",
       "      <td>216.987893</td>\n",
       "      <td>1.066512</td>\n",
       "      <td>2021-09-19</td>\n",
       "    </tr>\n",
       "    <tr>\n",
       "      <th>337</th>\n",
       "      <td>20210920</td>\n",
       "      <td>216.978150</td>\n",
       "      <td>1.071444</td>\n",
       "      <td>2021-09-20</td>\n",
       "    </tr>\n",
       "    <tr>\n",
       "      <th>338</th>\n",
       "      <td>20210923</td>\n",
       "      <td>216.852117</td>\n",
       "      <td>1.090071</td>\n",
       "      <td>2021-09-23</td>\n",
       "    </tr>\n",
       "    <tr>\n",
       "      <th>339</th>\n",
       "      <td>20210924</td>\n",
       "      <td>216.990174</td>\n",
       "      <td>1.057132</td>\n",
       "      <td>2021-09-24</td>\n",
       "    </tr>\n",
       "  </tbody>\n",
       "</table>\n",
       "<p>340 rows × 4 columns</p>\n",
       "</div>"
      ],
      "text/plain": [
       "         date  lake_water_level     error date_as_datetime\n",
       "0    20160401        217.357400  1.051550       2016-04-01\n",
       "1    20160404        217.420797  1.080877       2016-04-04\n",
       "2    20160405        217.430868  1.051407       2016-04-05\n",
       "3    20160416        217.734666  1.077846       2016-04-16\n",
       "4    20160420        217.686769  1.097875       2016-04-20\n",
       "..        ...               ...       ...              ...\n",
       "335  20210916        216.917040  1.043210       2021-09-16\n",
       "336  20210919        216.987893  1.066512       2021-09-19\n",
       "337  20210920        216.978150  1.071444       2021-09-20\n",
       "338  20210923        216.852117  1.090071       2021-09-23\n",
       "339  20210924        216.990174  1.057132       2021-09-24\n",
       "\n",
       "[340 rows x 4 columns]"
      ]
     },
     "execution_count": 83,
     "metadata": {},
     "output_type": "execute_result"
    }
   ],
   "source": [
    "baseline_results"
   ]
  },
  {
   "cell_type": "code",
   "execution_count": 84,
   "id": "aef32ec8",
   "metadata": {},
   "outputs": [],
   "source": [
    "time_as_datetime = pd.to_datetime(times, format=\"%Y%m%d\")"
   ]
  },
  {
   "cell_type": "code",
   "execution_count": 85,
   "id": "e996f440",
   "metadata": {},
   "outputs": [
    {
     "data": {
      "image/png": "[encoded data removed]",
      "text/plain": [
       "<Figure size 432x288 with 1 Axes>"
      ]
     },
     "metadata": {
      "needs_background": "light"
     },
     "output_type": "display_data"
    }
   ],
   "source": [
    "fig = plt.figure()\n",
    "ax = fig.add_subplot(111)\n",
    "ax.plot(\n",
    "    time_as_datetime,\n",
    "    lake_water_levels,\n",
    "    zorder=10,\n",
    "    label=\"Kalman Filtered\",\n",
    "    linewidth=0.5\n",
    ")\n",
    "ax.plot(\n",
    "    baseline_results[\"date_as_datetime\"],\n",
    "    baseline_results[\"lake_water_level\"],\n",
    "    'r--',\n",
    "    linewidth=0.75,\n",
    "    label=\"Median of each track\"\n",
    ")\n",
    "ax.set_xlabel('Date', labelpad=20)\n",
    "ax.set_ylabel('Lake Winnipeg water levels (m)')\n",
    "\n",
    "# Set labels to be every six months\n",
    "locator = matplotlib.dates.MonthLocator((1, 7))\n",
    "fmt = matplotlib.dates.DateFormatter('%b-%Y')\n",
    "ax.xaxis.set_major_locator(locator)\n",
    "ax.xaxis.set_major_formatter(fmt)\n",
    "for x in ax.get_xticklabels():\n",
    "    x.set_rotation(45)\n",
    "\n",
    "ax.legend()\n",
    "plt.show()"
   ]
  },
  {
   "cell_type": "code",
   "execution_count": 86,
   "id": "78f94c66",
   "metadata": {},
   "outputs": [
    {
     "data": {
      "text/plain": [
       "[<matplotlib.lines.Line2D at 0x13be1bc10>]"
      ]
     },
     "execution_count": 86,
     "metadata": {},
     "output_type": "execute_result"
    },
    {
     "data": {
      "image/png": "[encoded data removed]",
      "text/plain": [
       "<Figure size 432x288 with 1 Axes>"
      ]
     },
     "metadata": {
      "needs_background": "light"
     },
     "output_type": "display_data"
    }
   ],
   "source": [
    "fig = plt.figure()\n",
    "ax = fig.add_subplot(111)\n",
    "ax.plot(\n",
    "    time_as_datetime,\n",
    "    lake_water_levels - baseline_results[\"lake_water_level\"]\n",
    ")"
   ]
  },
  {
   "cell_type": "code",
   "execution_count": 91,
   "id": "a654fa7d",
   "metadata": {},
   "outputs": [
    {
     "data": {
      "text/plain": [
       "0.49098922487207425"
      ]
     },
     "execution_count": 91,
     "metadata": {},
     "output_type": "execute_result"
    }
   ],
   "source": [
    "np.std(lake_water_levels)"
   ]
  },
  {
   "cell_type": "code",
   "execution_count": 92,
   "id": "41771dec",
   "metadata": {},
   "outputs": [
    {
     "data": {
      "text/plain": [
       "0.4947340994818209"
      ]
     },
     "execution_count": 92,
     "metadata": {},
     "output_type": "execute_result"
    }
   ],
   "source": [
    "np.std(baseline_results[\"lake_water_level\"])"
   ]
  },
  {
   "cell_type": "markdown",
   "id": "6bae5ac7",
   "metadata": {},
   "source": [
    "# Other ideas that didn't pan out\n",
    "### Outliers: Apply Linear SV regression\n",
    "Along a track of data, apply a linear (flat) SV regression. This gives \"wide margin\" regression. DAHITI suggests to ignore points that sit outside the margins of +/- 5cm. Perhaps we can be more generous to 25 cm?\n",
    "\n",
    "Plot the water levels against the longitude coordinate. It seems we can get away with this, since none of our tracks are vertical (i.e. at const longitude)\n"
   ]
  },
  {
   "cell_type": "code",
   "execution_count": 87,
   "id": "50fcf513",
   "metadata": {},
   "outputs": [],
   "source": [
    "from sklearn.svm import LinearSVR\n",
    "from sklearn.linear_model import LinearRegression"
   ]
  },
  {
   "cell_type": "code",
   "execution_count": 88,
   "id": "ac2031ac",
   "metadata": {},
   "outputs": [
    {
     "name": "stderr",
     "output_type": "stream",
     "text": [
      "/Users/pvasudev/.virtualenvs/ml-freshwater/lib/python3.8/site-packages/sklearn/svm/_base.py:1206: ConvergenceWarning: Liblinear failed to converge, increase the number of iterations.\n",
      "  warnings.warn(\n"
     ]
    },
    {
     "data": {
      "text/plain": [
       "LinearSVR(C=1000000.0, epsilon=0.05)"
      ]
     },
     "execution_count": 88,
     "metadata": {},
     "output_type": "execute_result"
    }
   ],
   "source": [
    "# Illustrate for one date\n",
    "date = pd.unique(lake_winnipeg[\"date\"])[0]\n",
    "X = np.array(\n",
    "    lake_winnipeg.loc[\n",
    "        lake_winnipeg[\"date\"] == date,\n",
    "        \"longitude\"\n",
    "    ]\n",
    ").reshape(-1, 1)\n",
    "y = np.array(\n",
    "    lake_winnipeg.loc[\n",
    "        lake_winnipeg[\"date\"] == date,\n",
    "        \"lake_water_level\"\n",
    "    ]\n",
    ").ravel()\n",
    "# lin_reg = LinearRegression()\n",
    "# lin_reg.fit(X, y)\n",
    "svm_reg = LinearSVR(epsilon=0.05, max_iter=1000, C=1e6)\n",
    "svm_reg.fit(X, y)"
   ]
  },
  {
   "cell_type": "code",
   "execution_count": 89,
   "id": "0c0be08c",
   "metadata": {},
   "outputs": [
    {
     "data": {
      "image/png": "[encoded data removed]",
      "text/plain": [
       "<Figure size 432x288 with 1 Axes>"
      ]
     },
     "metadata": {
      "needs_background": "light"
     },
     "output_type": "display_data"
    }
   ],
   "source": [
    "fig = plt.figure()\n",
    "\n",
    "# Set x-range (i.e. longitude range)\n",
    "longitude_range = np.linspace(\n",
    "    lake_winnipeg.loc[\n",
    "        lake_winnipeg[\"date\"] == date,\n",
    "        \"longitude\"\n",
    "    ].min(),\n",
    "    lake_winnipeg.loc[\n",
    "        lake_winnipeg[\"date\"] == date,\n",
    "        \"longitude\"\n",
    "    ].max(),\n",
    "    100\n",
    ")\n",
    "\n",
    "water_levels_predicted = svm_reg.predict(longitude_range.reshape(100, 1))\n",
    "# water_levels_predicted = lin_reg.predict(longitude_range.reshape(100, 1))\n",
    "\n",
    "ax = fig.add_subplot(111)\n",
    "ax.plot(longitude_range, water_levels_predicted)\n",
    "ax.plot(longitude_range, water_levels_predicted - svm_reg.epsilon, \"k--\")\n",
    "ax.plot(longitude_range, water_levels_predicted + svm_reg.epsilon, \"k--\")\n",
    "ax.scatter(\n",
    "    lake_winnipeg.loc[\n",
    "        lake_winnipeg[\"date\"] == date,\n",
    "        \"longitude\"\n",
    "    ],\n",
    "    lake_winnipeg.loc[\n",
    "        lake_winnipeg[\"date\"] == date,\n",
    "        \"lake_water_level\"\n",
    "    ]\n",
    ")\n",
    "ax.set_ylim(\n",
    "    [\n",
    "        lake_winnipeg.loc[\n",
    "            lake_winnipeg[\"date\"] == date,\n",
    "            \"lake_water_level\"\n",
    "        ].min(),\n",
    "        lake_winnipeg.loc[\n",
    "            lake_winnipeg[\"date\"] == date,\n",
    "            \"lake_water_level\"\n",
    "        ].max(),\n",
    "    ]\n",
    ")\n",
    "ax.set_xlabel(\"Longitude (deg)\")\n",
    "ax.set_ylabel(\"Lake Winnipeg water level (m)\")\n",
    "plt.show()"
   ]
  }
 ],
 "metadata": {
  "kernelspec": {
   "display_name": "Python 3 (ipykernel)",
   "language": "python",
   "name": "python3"
  },
  "language_info": {
   "codemirror_mode": {
    "name": "ipython",
    "version": 3
   },
   "file_extension": ".py",
   "mimetype": "text/x-python",
   "name": "python",
   "nbconvert_exporter": "python",
   "pygments_lexer": "ipython3",
   "version": "3.8.9"
  }
 },
 "nbformat": 4,
 "nbformat_minor": 5
}
