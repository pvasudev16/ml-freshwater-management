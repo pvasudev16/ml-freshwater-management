{
 "cells": [
  {
   "cell_type": "markdown",
   "id": "6087e306",
   "metadata": {},
   "source": [
    "# Train a neural network to predict lake water levels\n",
    "Train a fully connected neural network to take in satellite altimetry data on one day and predict the lake water level on that day. We use in-situ data as the target for training.\n",
    "\n",
    "We noticed that using dropout caused a bulk shift in our neural network's results, so we did not use any dropout."
   ]
  },
  {
   "cell_type": "code",
   "execution_count": 1,
   "id": "98bc8969",
   "metadata": {},
   "outputs": [],
   "source": [
    "import pandas as pd\n",
    "import numpy as np\n",
    "import datetime\n",
    "from tensorflow import keras\n",
    "from keras.models import Sequential\n",
    "from keras import Input\n",
    "from keras.layers import Bidirectional, LSTM, Dense, RepeatVector, TimeDistributed\n",
    "from keras.layers.core import Dense, Dropout, Activation\n",
    "import matplotlib.pyplot as plt\n",
    "import matplotlib"
   ]
  },
  {
   "cell_type": "code",
   "execution_count": 2,
   "id": "7fc95e49",
   "metadata": {},
   "outputs": [],
   "source": [
    "# Flag whether to use pre-trained neural network\n",
    "# Set to False to re-train the neural network\n",
    "use_pretrained_network = True"
   ]
  },
  {
   "cell_type": "markdown",
   "id": "df460a52",
   "metadata": {},
   "source": [
    "# Read in Sentinel A, B data; Read in in-situ data"
   ]
  },
  {
   "cell_type": "code",
   "execution_count": 3,
   "id": "126b4f46",
   "metadata": {},
   "outputs": [],
   "source": [
    "# Read in Sentinel A data\n",
    "sentinel_data_A = pd.read_csv(\"data/Sentinel_3A_water_level_Version0.csv\")\n",
    "sentinel_data_A = sentinel_data_A.rename(\n",
    "    columns={\n",
    "        \"Date (YYYYMMDD)\" : \"date\",\n",
    "        \"Lake_name\" : \"lake_name\",\n",
    "        \"Latitude\" : \"latitude\",\n",
    "        \"Longitude\" : \"longitude\",\n",
    "        \"Relaive_orbit\" : \"relative_orbit\",\n",
    "        \"Lake water level (m)\" : \"lake_water_level\"\n",
    "    }\n",
    ")\n",
    "# Convert date to date time.\n",
    "sentinel_data_A.loc[:, \"date\"] = pd.to_datetime(sentinel_data_A.loc[:, \"date\"], format=\"%Y%m%d\")"
   ]
  },
  {
   "cell_type": "code",
   "execution_count": 4,
   "id": "067aa353",
   "metadata": {},
   "outputs": [],
   "source": [
    "# Read in Sentinel B data\n",
    "sentinel_data_B = pd.read_csv(\"data/Sentinel_3B_water_level_Version0.csv\")\n",
    "\n",
    "sentinel_data_B = sentinel_data_B.rename(\n",
    "    columns={\n",
    "        \"Date (YYYYMMDD)\" : \"date\",\n",
    "        \"Lake_name\" : \"lake_name\",\n",
    "        \"Latitude\" : \"latitude\",\n",
    "        \"Longitude\" : \"longitude\",\n",
    "        \"Relaive_orbit\" : \"relative_orbit\",\n",
    "        \"Lake water level (m)\" : \"lake_water_level\"\n",
    "    }\n",
    ")\n",
    "\n",
    "# Convert date to date time.\n",
    "sentinel_data_B.loc[:, \"date\"] = pd.to_datetime(sentinel_data_B.loc[:, \"date\"], format=\"%Y%m%d\")"
   ]
  },
  {
   "cell_type": "code",
   "execution_count": 5,
   "id": "cfe0b0a1",
   "metadata": {},
   "outputs": [],
   "source": [
    "# Concatenate\n",
    "sentinel_data = pd.concat([sentinel_data_A, sentinel_data_B])"
   ]
  },
  {
   "cell_type": "code",
   "execution_count": 6,
   "id": "11134e4d",
   "metadata": {},
   "outputs": [],
   "source": [
    "# Isolate Lake Winnipeg data\n",
    "lake_winnipeg = sentinel_data[\n",
    "    sentinel_data[\"lake_name\"] == \"Winnipeg\"\n",
    "]"
   ]
  },
  {
   "cell_type": "code",
   "execution_count": 7,
   "id": "b809db9b",
   "metadata": {},
   "outputs": [],
   "source": [
    "# Read in-situ data\n",
    "lake_winnipeg_in_situ = pd.read_csv(\"./data/WinnipegLake_at_GeorgeIsland.csv\")\n",
    "lake_winnipeg_in_situ = lake_winnipeg_in_situ.rename(\n",
    "    columns={\n",
    "        \"Date\" : \"date\",\n",
    "        \"Value (m)\" : \"in_situ_lake_water_level\"\n",
    "    }\n",
    ")"
   ]
  },
  {
   "cell_type": "code",
   "execution_count": 8,
   "id": "b2b1b41f",
   "metadata": {},
   "outputs": [],
   "source": [
    "# Convert date to date time.\n",
    "lake_winnipeg_in_situ.loc[:, \"date\"] = pd.to_datetime(lake_winnipeg_in_situ.loc[:, \"date\"], format=\"%Y-%m-%d\")\n",
    "\n",
    "# Select only date and in_situ_lake_water_level\n",
    "lake_winnipeg_in_situ = lake_winnipeg_in_situ[[\"date\", \"in_situ_lake_water_level\"]]"
   ]
  },
  {
   "cell_type": "code",
   "execution_count": 9,
   "id": "a858e61c",
   "metadata": {},
   "outputs": [],
   "source": [
    "# Join the data on date\n",
    "lake_winnipeg = lake_winnipeg.merge(lake_winnipeg_in_situ, on='date', how='left')"
   ]
  },
  {
   "cell_type": "code",
   "execution_count": 10,
   "id": "0ebc3fd0",
   "metadata": {},
   "outputs": [],
   "source": [
    "lake_winnipeg = lake_winnipeg.loc[\n",
    "    pd.notnull(lake_winnipeg[\"in_situ_lake_water_level\"])\n",
    "]"
   ]
  },
  {
   "cell_type": "code",
   "execution_count": 11,
   "id": "6e35738a",
   "metadata": {},
   "outputs": [
    {
     "data": {
      "text/html": [
       "<div>\n",
       "<style scoped>\n",
       "    .dataframe tbody tr th:only-of-type {\n",
       "        vertical-align: middle;\n",
       "    }\n",
       "\n",
       "    .dataframe tbody tr th {\n",
       "        vertical-align: top;\n",
       "    }\n",
       "\n",
       "    .dataframe thead th {\n",
       "        text-align: right;\n",
       "    }\n",
       "</style>\n",
       "<table border=\"1\" class=\"dataframe\">\n",
       "  <thead>\n",
       "    <tr style=\"text-align: right;\">\n",
       "      <th></th>\n",
       "      <th>date</th>\n",
       "      <th>lake_name</th>\n",
       "      <th>latitude</th>\n",
       "      <th>longitude</th>\n",
       "      <th>relative_orbit</th>\n",
       "      <th>lake_water_level</th>\n",
       "      <th>in_situ_lake_water_level</th>\n",
       "    </tr>\n",
       "  </thead>\n",
       "  <tbody>\n",
       "    <tr>\n",
       "      <th>79726</th>\n",
       "      <td>2019-01-10</td>\n",
       "      <td>Winnipeg</td>\n",
       "      <td>53.840506</td>\n",
       "      <td>-98.627263</td>\n",
       "      <td>112</td>\n",
       "      <td>217.231253</td>\n",
       "      <td>217.155</td>\n",
       "    </tr>\n",
       "    <tr>\n",
       "      <th>79727</th>\n",
       "      <td>2019-01-10</td>\n",
       "      <td>Winnipeg</td>\n",
       "      <td>53.837662</td>\n",
       "      <td>-98.628729</td>\n",
       "      <td>112</td>\n",
       "      <td>216.901952</td>\n",
       "      <td>217.155</td>\n",
       "    </tr>\n",
       "    <tr>\n",
       "      <th>79728</th>\n",
       "      <td>2019-01-10</td>\n",
       "      <td>Winnipeg</td>\n",
       "      <td>53.834818</td>\n",
       "      <td>-98.630195</td>\n",
       "      <td>112</td>\n",
       "      <td>216.901451</td>\n",
       "      <td>217.155</td>\n",
       "    </tr>\n",
       "    <tr>\n",
       "      <th>79729</th>\n",
       "      <td>2019-01-10</td>\n",
       "      <td>Winnipeg</td>\n",
       "      <td>53.831974</td>\n",
       "      <td>-98.631661</td>\n",
       "      <td>112</td>\n",
       "      <td>217.006650</td>\n",
       "      <td>217.155</td>\n",
       "    </tr>\n",
       "    <tr>\n",
       "      <th>79730</th>\n",
       "      <td>2019-01-10</td>\n",
       "      <td>Winnipeg</td>\n",
       "      <td>53.829131</td>\n",
       "      <td>-98.633126</td>\n",
       "      <td>112</td>\n",
       "      <td>216.928148</td>\n",
       "      <td>217.155</td>\n",
       "    </tr>\n",
       "  </tbody>\n",
       "</table>\n",
       "</div>"
      ],
      "text/plain": [
       "            date lake_name   latitude  longitude  relative_orbit  \\\n",
       "79726 2019-01-10  Winnipeg  53.840506 -98.627263             112   \n",
       "79727 2019-01-10  Winnipeg  53.837662 -98.628729             112   \n",
       "79728 2019-01-10  Winnipeg  53.834818 -98.630195             112   \n",
       "79729 2019-01-10  Winnipeg  53.831974 -98.631661             112   \n",
       "79730 2019-01-10  Winnipeg  53.829131 -98.633126             112   \n",
       "\n",
       "       lake_water_level  in_situ_lake_water_level  \n",
       "79726        217.231253                   217.155  \n",
       "79727        216.901952                   217.155  \n",
       "79728        216.901451                   217.155  \n",
       "79729        217.006650                   217.155  \n",
       "79730        216.928148                   217.155  "
      ]
     },
     "execution_count": 11,
     "metadata": {},
     "output_type": "execute_result"
    }
   ],
   "source": [
    "lake_winnipeg.head()"
   ]
  },
  {
   "cell_type": "code",
   "execution_count": 12,
   "id": "6d9c18b3",
   "metadata": {},
   "outputs": [
    {
     "data": {
      "text/plain": [
       "102157"
      ]
     },
     "execution_count": 12,
     "metadata": {},
     "output_type": "execute_result"
    }
   ],
   "source": [
    "len(lake_winnipeg)"
   ]
  },
  {
   "cell_type": "markdown",
   "id": "f0b2dd0e",
   "metadata": {},
   "source": [
    "# Reject Outliers"
   ]
  },
  {
   "cell_type": "code",
   "execution_count": 13,
   "id": "9e7bbb75",
   "metadata": {},
   "outputs": [],
   "source": [
    "lake_winnipeg[\"mean_track_lake_water_level\"] = lake_winnipeg.groupby(\"date\")[\"lake_water_level\"].transform(\"mean\")\n",
    "lake_winnipeg[\"std_track_lake_water_level\"] = lake_winnipeg.groupby(\"date\")[\"lake_water_level\"].transform(\"std\")\n",
    "number_of_standard_deviations = 2 \n",
    "lake_winnipeg[\"reject\"] = lake_winnipeg.apply(\n",
    "    lambda row: True if np.abs(\n",
    "        row[\"lake_water_level\"] - row[\"mean_track_lake_water_level\"]\n",
    "    ) > number_of_standard_deviations*row[\"std_track_lake_water_level\"] else False,\n",
    "    axis=1\n",
    ")\n",
    "lake_winnipeg = lake_winnipeg.loc[\n",
    "    lake_winnipeg[\"reject\"] == False\n",
    "]"
   ]
  },
  {
   "cell_type": "code",
   "execution_count": 14,
   "id": "4bbe9550",
   "metadata": {},
   "outputs": [
    {
     "data": {
      "text/plain": [
       "False    99138\n",
       "Name: reject, dtype: int64"
      ]
     },
     "execution_count": 14,
     "metadata": {},
     "output_type": "execute_result"
    }
   ],
   "source": [
    "lake_winnipeg[\"reject\"].value_counts()"
   ]
  },
  {
   "cell_type": "markdown",
   "id": "5acb423a",
   "metadata": {},
   "source": [
    "# Find the length of the longest track"
   ]
  },
  {
   "cell_type": "code",
   "execution_count": 15,
   "id": "51203e4c",
   "metadata": {},
   "outputs": [],
   "source": [
    "# Find the longest track\n",
    "counts = lake_winnipeg.groupby(\"date\").agg(\n",
    "    {\n",
    "        \"lake_name\" : \"count\"\n",
    "    }\n",
    ")"
   ]
  },
  {
   "cell_type": "code",
   "execution_count": 16,
   "id": "5071ad7c",
   "metadata": {},
   "outputs": [
    {
     "data": {
      "text/plain": [
       "905"
      ]
     },
     "execution_count": 16,
     "metadata": {},
     "output_type": "execute_result"
    }
   ],
   "source": [
    "max(counts[\"lake_name\"])"
   ]
  },
  {
   "cell_type": "code",
   "execution_count": 17,
   "id": "ab341833",
   "metadata": {},
   "outputs": [],
   "source": [
    "max_track_length = max(counts[\"lake_name\"])"
   ]
  },
  {
   "cell_type": "markdown",
   "id": "f1ef9aa6",
   "metadata": {},
   "source": [
    "# Adjust the data so every day has max_track_length"
   ]
  },
  {
   "cell_type": "code",
   "execution_count": 18,
   "id": "0f941b60",
   "metadata": {},
   "outputs": [],
   "source": [
    "df=lake_winnipeg"
   ]
  },
  {
   "cell_type": "code",
   "execution_count": 19,
   "id": "999a8e69",
   "metadata": {},
   "outputs": [],
   "source": [
    "# Taken from https://stackoverflow.com/questions/68803947/how-do-i-make-each-group-within-a-dataframe-the-same-size\n",
    "df = df.set_index([\"date\", df.groupby(\"date\").cumcount()])\n",
    "index = pd.MultiIndex.from_product(df.index.levels, names=df.index.names)\n",
    "output = df.reindex(index, fill_value=np.nan).reset_index(level=1, drop=True).reset_index()"
   ]
  },
  {
   "cell_type": "code",
   "execution_count": 20,
   "id": "3d18ed41",
   "metadata": {},
   "outputs": [
    {
     "name": "stdout",
     "output_type": "stream",
     "text": [
      "0.00% complete\n",
      "4.02% complete\n",
      "8.03% complete\n",
      "12.05% complete\n",
      "16.06% complete\n",
      "20.08% complete\n",
      "24.10% complete\n",
      "28.11% complete\n",
      "32.13% complete\n",
      "36.14% complete\n",
      "40.16% complete\n",
      "44.18% complete\n",
      "48.19% complete\n",
      "52.21% complete\n",
      "56.22% complete\n",
      "60.24% complete\n",
      "64.26% complete\n",
      "68.27% complete\n",
      "72.29% complete\n",
      "76.31% complete\n",
      "80.32% complete\n",
      "84.34% complete\n",
      "88.35% complete\n",
      "92.37% complete\n",
      "96.39% complete\n",
      "100.00% complete\n"
     ]
    }
   ],
   "source": [
    "# Fill in the rest of the data frame with the first entry for each date for a column\n",
    "def populate_data_frame_with_first_entry_on_each_date(column):\n",
    "    output.loc[\n",
    "        output[\"date\"] == date,\n",
    "        column\n",
    "    ] = output.loc[\n",
    "        output[\"date\"] == date,\n",
    "        column\n",
    "    ].iloc[0]\n",
    "\n",
    "    \n",
    "number_of_dates = len(pd.unique(output[\"date\"]))\n",
    "\n",
    "for j, date in enumerate(pd.unique(output[\"date\"])):\n",
    "    # We padded the array with NaNs to make each date have 905 data points\n",
    "    # Find out how many non-NaNs we have. This represents the last real data\n",
    "    # point on each day. E.g. on 2019-01-01 there are 369 real data points\n",
    "    last_non_null_index = output.loc[\n",
    "        output[\"date\"] == date,\n",
    "        \"lake_water_level\"\n",
    "    ].count()\n",
    "\n",
    "    # Get the lake water level on each day as a numpy array\n",
    "    lake_water_level = np.array(\n",
    "        output.loc[\n",
    "            output[\"date\"] == date,\n",
    "            \"lake_water_level\"\n",
    "        ]\n",
    "    )\n",
    "\n",
    "    # Get the mean and standard deviation of the non-NaN data on each day\n",
    "    mean_lake_water_level = np.mean(lake_water_level[0:last_non_null_index])\n",
    "    std_lake_water_level = np.std(lake_water_level[0:last_non_null_index])\n",
    "\n",
    "    # We are going to populate the NaNs with a randomly sampled array\n",
    "    # with the right standard deviation and mean\n",
    "    filling_array = np.random.normal(\n",
    "        loc=mean_lake_water_level,\n",
    "        scale=std_lake_water_level,\n",
    "        size=max_track_length - last_non_null_index # e.g. 920 - 369 = 551\n",
    "    )\n",
    "\n",
    "    # Fill the NaNs\n",
    "    lake_water_level[last_non_null_index:max_track_length] = filling_array\n",
    "\n",
    "    # Put back into the data frame\n",
    "    output.loc[\n",
    "        output[\"date\"] == date,\n",
    "        \"lake_water_level\"\n",
    "    ] = lake_water_level\n",
    "\n",
    "    populate_data_frame_with_first_entry_on_each_date(\"relative_orbit\")\n",
    "    populate_data_frame_with_first_entry_on_each_date(\"in_situ_lake_water_level\")\n",
    "    populate_data_frame_with_first_entry_on_each_date(\"lake_name\")\n",
    "    \n",
    "    if j % 10 == 0 or j == number_of_dates - 1:\n",
    "        percentage_complete = j/(number_of_dates - 1) * 100.\n",
    "        print(\"%0.02f%% complete\"%(percentage_complete))\n"
   ]
  },
  {
   "cell_type": "markdown",
   "id": "3cf2bfbd",
   "metadata": {},
   "source": [
    "# Prepare test/train data"
   ]
  },
  {
   "cell_type": "code",
   "execution_count": 21,
   "id": "065e5794",
   "metadata": {},
   "outputs": [],
   "source": [
    "df_train = output.iloc[0:200*max_track_length]\n",
    "df_test = output.iloc[201*max_track_length::]"
   ]
  },
  {
   "cell_type": "code",
   "execution_count": 22,
   "id": "7e47889c",
   "metadata": {},
   "outputs": [],
   "source": [
    "def simple_prepare_data(datain):\n",
    "    # Turn our training data into a an input set of (200 x 920 x 1)\n",
    "    # Turn our training data into a target set of (200 x 1 x 1)\n",
    "    \n",
    "    # Get the lake water levels as numpy arrays\n",
    "    lake_water_levels = np.array(datain[\"lake_water_level\"])\n",
    "    in_situ_lake_water_levels = np.array(datain[\"in_situ_lake_water_level\"])\n",
    "    \n",
    "    # Get the number of unique dates. For e.g. in our training data, it's 200.\n",
    "    number_of_dates = len(pd.unique(datain[\"date\"]))\n",
    "    \n",
    "    for d in range(number_of_dates):\n",
    "        X_start = d * max_track_length\n",
    "        X_end = (d + 1) * max_track_length\n",
    "        Y_start = d * max_track_length\n",
    "        # There is no Y-end\n",
    "    \n",
    "        if d == 0:\n",
    "            X = lake_water_levels[X_start:X_end]\n",
    "            Y = in_situ_lake_water_levels[Y_start]\n",
    "        else:\n",
    "            X = np.append(X, lake_water_levels[X_start:X_end])\n",
    "            Y = np.append(Y, in_situ_lake_water_levels[Y_start])\n",
    "    # Reshape arrays\n",
    "    X_out = np.reshape(X, (number_of_dates, max_track_length, 1))\n",
    "    Y_out = np.reshape(Y, (number_of_dates, 1, 1))\n",
    "    return X_out, Y_out"
   ]
  },
  {
   "cell_type": "code",
   "execution_count": 23,
   "id": "a03d4990",
   "metadata": {},
   "outputs": [],
   "source": [
    "X_train, Y_train = simple_prepare_data(datain=df_train)\n",
    "X_test, Y_test = simple_prepare_data(datain=df_test)"
   ]
  },
  {
   "cell_type": "markdown",
   "id": "4b1c6816",
   "metadata": {},
   "source": [
    "# Neural Network model"
   ]
  },
  {
   "cell_type": "code",
   "execution_count": 24,
   "id": "59cd1d42",
   "metadata": {},
   "outputs": [
    {
     "name": "stderr",
     "output_type": "stream",
     "text": [
      "2022-07-10 15:17:46.625858: I tensorflow/core/platform/cpu_feature_guard.cc:193] This TensorFlow binary is optimized with oneAPI Deep Neural Network Library (oneDNN) to use the following CPU instructions in performance-critical operations:  AVX2 FMA\n",
      "To enable them in other operations, rebuild TensorFlow with the appropriate compiler flags.\n"
     ]
    }
   ],
   "source": [
    "if use_pretrained_network == False:\n",
    "    model = Sequential()\n",
    "    model.add(Dense(512, input_shape=(max_track_length,), kernel_regularizer='l1_l2'))\n",
    "    model.add(Activation('relu'))                            \n",
    "\n",
    "    model.add(Dense(512, kernel_regularizer='l1_l2'))\n",
    "    model.add(Activation('relu'))\n",
    "\n",
    "    model.add(Dense(1))\n",
    "\n",
    "    # Compile model\n",
    "    model.compile(\n",
    "        optimizer=\"adam\",\n",
    "        loss=\"mean_squared_error\",\n",
    "        metrics=[\"MeanSquaredError\", \"MeanAbsoluteError\"],\n",
    "        loss_weights=None,\n",
    "        weighted_metrics=None,\n",
    "        run_eagerly=None,\n",
    "        steps_per_execution=None\n",
    "    )\n",
    "\n",
    "\n",
    "    history = model.fit(\n",
    "        X_train,\n",
    "        Y_train,\n",
    "        batch_size=1,\n",
    "        epochs=1000,\n",
    "        verbose=0,\n",
    "        callbacks=None,\n",
    "        validation_split=0.2,\n",
    "        # validation_data=(X_test, Y_test)\n",
    "        shuffle=True,\n",
    "        class_weight=None,\n",
    "        sample_weight=None,\n",
    "        initial_epoch=0,\n",
    "        steps_per_epoch=None,\n",
    "        validation_steps=None,\n",
    "        validation_batch_size=None,\n",
    "        validation_freq=100,\n",
    "        max_queue_size=10,\n",
    "        workers=1,\n",
    "        use_multiprocessing=True\n",
    "    )\n",
    "    model.save(\"./pretrained_networks/Simple_NN\")\n",
    "else:\n",
    "    model = keras.models.load_model('./pretrained_networks/Simple_NN')"
   ]
  },
  {
   "cell_type": "markdown",
   "id": "c16921d3",
   "metadata": {},
   "source": [
    "# Plot results"
   ]
  },
  {
   "cell_type": "code",
   "execution_count": 25,
   "id": "71bd5984",
   "metadata": {},
   "outputs": [],
   "source": [
    "def get_baseline_results(df): #df is train or test data\n",
    "    return df[\n",
    "        [\n",
    "            \"date\",\n",
    "            \"lake_water_level\",\n",
    "            \"in_situ_lake_water_level\"\n",
    "        ]\n",
    "    ].groupby(\"date\").agg(\n",
    "        {\n",
    "            \"lake_water_level\" : \"median\",\n",
    "            \"in_situ_lake_water_level\" : \"median\"\n",
    "        }\n",
    "    ).reset_index()"
   ]
  },
  {
   "cell_type": "code",
   "execution_count": 26,
   "id": "94248b96",
   "metadata": {},
   "outputs": [
    {
     "name": "stdout",
     "output_type": "stream",
     "text": [
      "7/7 [==============================] - 0s 1ms/step\n",
      "2/2 [==============================] - 0s 2ms/step\n"
     ]
    }
   ],
   "source": [
    "baseline_train = get_baseline_results(df_train)\n",
    "baseline_test = get_baseline_results(df_test)\n",
    "lake_water_levels_nn_train = model.predict(X_train)\n",
    "lake_water_levels_nn_test = model.predict(X_test)"
   ]
  },
  {
   "cell_type": "code",
   "execution_count": 27,
   "id": "31b04441",
   "metadata": {},
   "outputs": [],
   "source": [
    "# Write the in-situ, median, and neural network data to file so we can use it for plotting later on\n",
    "# pd.concat([baseline_train, baseline_test]) is of length 249\n",
    "# np.concatenate([lake_water_..._train, lake_water_..._test]) is also of length 249\n",
    "sentinel_a_b_lake_winnipeg_neural_network = pd.concat(\n",
    "    [baseline_train,\n",
    "     baseline_test]\n",
    ")\n",
    "sentinel_a_b_lake_winnipeg_neural_network[\"lake_water_levels_nn\"] = np.concatenate(\n",
    "    [lake_water_levels_nn_train, lake_water_levels_nn_test]\n",
    ")\n",
    "sentinel_a_b_lake_winnipeg_neural_network.to_csv(\n",
    "    \"./processed/sentinel_a_b_lake_winnipeg_neural_network.csv\",\n",
    "    index=False\n",
    ")"
   ]
  },
  {
   "cell_type": "code",
   "execution_count": 28,
   "id": "6590e066",
   "metadata": {},
   "outputs": [
    {
     "data": {
      "image/png": "[encoded data removed]",
      "text/plain": [
       "<Figure size 504x360 with 1 Axes>"
      ]
     },
     "metadata": {
      "needs_background": "light"
     },
     "output_type": "display_data"
    }
   ],
   "source": [
    "fig = plt.figure(\n",
    "    figsize=(7, 5)\n",
    ")\n",
    "ax = fig.add_subplot(111)\n",
    "\n",
    "ax.plot(\n",
    "    baseline_train[\"date\"],\n",
    "    baseline_train[\"lake_water_level\"],\n",
    "    color=\"g\",\n",
    "    linestyle=\"-.\",\n",
    "    linewidth=0.75,\n",
    "    label=\"Sentinel A/B lake water levels (median)\"\n",
    ")\n",
    "ax.plot(\n",
    "    baseline_test[\"date\"],\n",
    "    baseline_test[\"lake_water_level\"],\n",
    "    color=\"g\",\n",
    "    linestyle=\"-.\",\n",
    "    linewidth=0.75,\n",
    "\n",
    ")\n",
    "ax.plot(\n",
    "    baseline_train[\"date\"],\n",
    "    lake_water_levels_nn_train,\n",
    "    color=\"r\",\n",
    "    linestyle=\"-\",\n",
    "    linewidth=1.0,\n",
    "    label=\"Neural Network, Training data\"\n",
    ")\n",
    "ax.plot(\n",
    "    baseline_test[\"date\"],\n",
    "    lake_water_levels_nn_test,\n",
    "    color=\"k\",\n",
    "    linestyle=\"-\",\n",
    "    linewidth=1.0,\n",
    "    label=\"Neural Network, Test data\"\n",
    ")\n",
    "locator = matplotlib.dates.MonthLocator((1, 7))\n",
    "fmt = matplotlib.dates.DateFormatter('%b-%Y')\n",
    "ax.xaxis.set_major_locator(locator)\n",
    "ax.xaxis.set_major_formatter(fmt)\n",
    "for x in ax.get_xticklabels():\n",
    "    x.set_rotation(45)\n",
    "ax.legend()\n",
    "ax.set_xlabel(\"Date\", labelpad=20)\n",
    "ax.set_ylabel(\"Lake Water Level (m)\", labelpad=20)\n",
    "plt.title(\"Lake Winnipeg Water Levels: In-situ, satellite altimetry and and neural network\", pad=20)\n",
    "plt.show()\n"
   ]
  }
 ],
 "metadata": {
  "kernelspec": {
   "display_name": "Python 3 (ipykernel)",
   "language": "python",
   "name": "python3"
  },
  "language_info": {
   "codemirror_mode": {
    "name": "ipython",
    "version": 3
   },
   "file_extension": ".py",
   "mimetype": "text/x-python",
   "name": "python",
   "nbconvert_exporter": "python",
   "pygments_lexer": "ipython3",
   "version": "3.8.9"
  }
 },
 "nbformat": 4,
 "nbformat_minor": 5
}
